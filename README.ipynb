{
 "cells": [
  {
   "cell_type": "markdown",
   "metadata": {},
   "source": [
    "# READ ME FILE\n",
    "Supplementary Material for \"Analysis of Two-Stage Rollout Designs with Clustering for Causal Inference under Network Interference\""
   ]
  },
  {
   "cell_type": "markdown",
   "metadata": {},
   "source": [
    "Required packages:\n",
    "- `joblib` 1.4.2\n",
    "- `pymetis` 2023.1.1\n",
    "- `numpy` 1.26.3\n",
    "- `pandas` 2.2.0\n",
    "- `matplotlib` 3.8.2\n",
    "- `networkx` 3.2.1\n",
    "- `scipy` 1.12.0\n",
    "- `seaborn` 0.13.2"
   ]
  },
  {
   "cell_type": "markdown",
   "metadata": {},
   "source": [
    "Files (main directory):\n",
    "- figures_and_tables.ipynb\n",
    "    - Reproduces the figures and tables from the paper\n",
    "- preparing_network_data.ipynb\n",
    "    - Demo on preparing network data for running experiments\n",
    "- running_experiments\n",
    "    - Demo on running experiments (use to gather data to create the plots/tables in the paper)"
   ]
  },
  {
   "cell_type": "markdown",
   "metadata": {},
   "source": [
    "Sub-folders:\n",
    "\n",
    "- Amazon:\n",
    "    - Experiments: contains .json files with experiment parameters for Amazon network; also has data files (.pkl) generated in experiments\n",
    "    - Network: data files for the network, plus some .py files for preparing the network data; the main important file is `data.pkl` which is used in the experiment files and contains a representation of the Amazon network as well as some clusterings (created by `prepare_data.py`); the file `deg_hist.py` generates a degree histrogram for the network.\n",
    "\n",
    "- BlogCatalog:\n",
    "    - Experiments: contains .json files with experiment parameters for BlogCatalog network; also has data files (.pkl) generated in experiments\n",
    "    - Network: data files for the network, plus some .py files for preparing the network data; the main important file is `data.pkl` which is used in the experiment files and contains a representation of the BlogCatalog network as well as some clusterings (created by `prepare_data.py`); the file `deg_hist.py` generates a degree histrogram for the network.\n",
    "\n",
    "- Email:\n",
    "    - Experiments: contains .json files with experiment parameters for Email network; also has data files (.pkl) generated in experiments\n",
    "    - Network: data files for the network, plus some .py files for preparing the network data; the main important file is `data.pkl` which is used in the experiment files and contains a representation of the Email network as well as some clusterings (created by `prepare_data.py`); the file `deg_hist.py` generates a degree histrogram for the network.\n",
    "\n",
    "- experiment_python_scripts:\n",
    "    - Scripts to run experiments and plot the results or otherwise scripts to create tables/figures from the paper\n",
    "    - `interpolation_figure.py`: Creates Figure 1: Visualization of extrapolated polynomials\n",
    "    - `run_compare_estimators_experiment.py`: used to create data for Figures 2, 8, 9, 10, and 13 (compare bias/variance or MSE of different estimators)\n",
    "        - requires there to be a file called `compare_estimators.json` in the appropriate real-world network folder (sub-folder Experiments) containing experiment info; for an example, see `Amazon/Experiments/compare_estimators.json`\n",
    "        - creates a file called `compare_estimators.pkl` in same directory as .json file; this is used for plotting\n",
    "    - `compare_estimators_plot.py` plots the data to create Figures 2, 8, 9, 10, and 13\n",
    "\n",
    "    - `run_compare_clusterings_experiment.py`: used to create data for Figures 4, 11, 12, and 14 (comparing 2-stage performance under different clusterings for real-world networks)\n",
    "        - requires there to be a file called `compare_clusterings.json` in the appropriate real-world network folder (sub-folder Experiments) containing experiment info; for an example, see `Amazon/Experiments/compare_clusterings.json`\n",
    "        - creates a file called `compare_clusterings.pkl` in same directory as .json file; this is used for plotting\n",
    "    - `compare_clusterings_plot.py` plots the data to create Figures 4, 11, 12, and 14\n",
    "\n",
    "    - `lattice_clustering_metrics.py`: generates clustering metrics for Lattice (e.g. for Table 1) as a file called `cluster_metrics_lattice.txt`\n",
    "    - `clustering_metrics_table.py`: generates clustering metrics for real-world networks (e.g. for Table 2) as a file called `cluster_metrics_real-world.txt`\n",
    "\n",
    "    - `experiment_functions.py` : helper functions for running experiments (e.g. creating Lattice network, generating potential outcomes, randomized designs)\n"
   ]
  },
  {
   "cell_type": "markdown",
   "metadata": {},
   "source": [
    "Ugander-Yin Potential Outcomes Model\n",
    "\n",
    "- found in `experiment_functions.py` (see functions pom_ugander_yin, _outcomes, and homophily_effects)\n",
    "- for no homophily, set $b=0$ in pom_ugander_yin function\n",
    "- for some homophily, set $b$ in pom_ugander_yin function to the desired value, e.g. $b=0.5$"
   ]
  },
  {
   "cell_type": "markdown",
   "metadata": {},
   "source": [
    "Example: Create Figure 2\n",
    "\n",
    "- In `Amazon/Experiments` there should be a file called `compare_estimators.json` containing the following information:\n",
    "    - name: the name of the experiment\n",
    "    - network: the name of the network\n",
    "    - input: where to find the file containing network info\n",
    "    - vary: which parameters will we vary in the experiment and over which values?\n",
    "    - fix: wich parameters will we fix for the experiment and to what values should they be set?\n",
    "    - replications: how many times do you want to run the randomized control trial?\n",
    "    - gamma: parameter for the thresholded difference in means estimator\n",
    "\n",
    "    For example:\n",
    "    ```\n",
    "    { \n",
    "        \"name\" : \"compare_estimators\", \n",
    "        \"network\" : \"Amazon\",\n",
    "        \"input\" : \"Network/data.pkl\",\n",
    "        \"vary\" : {\n",
    "            \"beta\" : [1,2,3]\n",
    "        },\n",
    "        \"fix\" : {\n",
    "            \"q\" : 0.5,\n",
    "            \"nc\" : 250\n",
    "        },\n",
    "        \"replications\" : 1000,\n",
    "        \"gamma\" : 0.25\n",
    "    }\n",
    "    ```\n",
    "\n",
    "- From the main directory (Supplementary_Material), run the Python file `run_compare_estimators_experiment.py`\n",
    "    - Scroll to the bottom of the file and make sure the variable `my_path` is set correctly; in this example, it should be \"Amazon/Experiments/compare_estimators.json\"\n",
    "    - Depending on your computing power, this may take some time (for me it took just under 2 hours)\n",
    "    - upon completion, should create a file called `compare_estimators.pkl` in Amazon/Experiments folder\n",
    "\n",
    "- To plot, navigate to the Python file `compare_estimators_plot.py`, scroll to the bottom and make sure to set the variables `mse` and `network_name` appropriately\n",
    "    - in this case, since we want to make Figure 2 which has bias/variance plots, set `mse=False` (setting to True would generate Figure 8 instead) and `network_name=\"Amazon\"`\n",
    "    - running this file should create a figure and save it as `compare_estimators_Amazon.png`\n",
    "    - In `draw_plots`, depending on the parameters you used in the .json file to create the data and depending on what you want to plot, you can customize different things"
   ]
  },
  {
   "cell_type": "markdown",
   "metadata": {},
   "source": []
  }
 ],
 "metadata": {
  "language_info": {
   "name": "python"
  }
 },
 "nbformat": 4,
 "nbformat_minor": 2
}
