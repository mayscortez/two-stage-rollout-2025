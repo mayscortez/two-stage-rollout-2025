{
 "cells": [
  {
   "cell_type": "markdown",
   "metadata": {},
   "source": [
    "There are two types of experiments:\n",
    "- comparing MSE of two-stage polynomial interpolation estimator under different clustering strategies for a particular network; See Figures 4, 11, 12, and 14\n",
    "- comparing bias, variance or MSE of two-stage polynomial interpolation estimator against different estimators for the Total Treatment Effect (TTE); see Figures 2,8,9,10, and 13\n",
    "\n",
    "The files `run_compare_clusterings_experiment.py` and `run_compare_estimators_experiment.py` are to be used with the real-world networks.\n",
    "The Lattice network has its own folder and its own file for running the comparing clusterings experiment (see \"compare_clusters.py\" in the Lattice folder). Note we have not implemented a script to run the \"compare estimators\" experiment for a Lattice network.\n"
   ]
  },
  {
   "cell_type": "markdown",
   "metadata": {},
   "source": [
    "# Comparing Clusterings Experiment\n",
    "\n",
    "The `run_compare_clusterings_experiment.py` file requires a file called `compare_estimators.json` (which is unique to each real-world network) and a file called `data.pkl` which is also unique to each real-world network. The script generates data and saves it into a file called `compare_estimators.pkl` in the Experiment folder corresponding to the network. \n",
    "\n",
    "For information on what the `data.pkl` file contains, please refer to the Jupyter notebook titled \"preparing_network_data.\"\n",
    "\n",
    "The JSON file `compare_estimators.json` has the following format\n",
    "```\n",
    "{ \n",
    "    \"name\" : \"compare_clusterings\", \n",
    "    \"network\" : \"Amazon\",\n",
    "    \"input\" : \"Network/data.pkl\",\n",
    "    \"vary\" : {\n",
    "        \"nc\" : [250],\n",
    "        \"beta\" : [2,3]\n",
    "    },\n",
    "    \"fix\" : {\n",
    "        \"p\" : 0.1\n",
    "    },\n",
    "    \"replications\" : 1000\n",
    "}\n",
    "```"
   ]
  },
  {
   "cell_type": "markdown",
   "metadata": {},
   "source": [
    "- The \"name\" parameter says what experiment this file is for\n",
    "- The \"network\" parameter says which network this is for \n",
    "- The \"input\" parameter has the path to the data.pkl file\n",
    "- The \"vary\" parameter contains a dictionary of parameters the experiment may vary over, for example if you wanted to run experiments with $\\beta=1$ but for different cluster sizes like $50$, $100$, and $250$ clusters, you would have:\n",
    "    - \"nc\" : [50, 100, 250]\n",
    "    - \"beta\" : [1]\n",
    "- The \"fix\" parameter contains a dictionary of values for parameters that should remain fixed throughout the experiment, for example we may want the overall treatment budget $p$ to be fixed at the value 0.1.\n",
    "- The \"replications\" parameter is an integer corresponding to how many replications of the randomized design you want to run\n",
    "    - for example, the expected value is computed by averaging the results over this number of replications and the experimental standard deviation is calculated by taking the square root of the experimental\n",
    "variance over all replications"
   ]
  },
  {
   "cell_type": "markdown",
   "metadata": {},
   "source": [
    "# Demo: Amazon Network\n",
    "\n",
    "For the purposes of demonstration, files that include \"DEMO\" in their filename are distinct from the files used to generate data/figures/tables for the paper."
   ]
  },
  {
   "cell_type": "code",
   "execution_count": null,
   "metadata": {},
   "outputs": [
    {
     "name": "stdout",
     "output_type": "stream",
     "text": [
      "Loading Graph\n",
      "n: 19828\n",
      "Preparing Clusterings with 250 Clusters\n",
      "\n",
      "beta = 2\n",
      "Clustering: feature\n"
     ]
    },
    {
     "name": "stderr",
     "output_type": "stream",
     "text": [
      "[Parallel(n_jobs=-2)]: Using backend LokyBackend with 7 concurrent workers.\n",
      "[Parallel(n_jobs=-2)]: Done   3 out of  10 | elapsed:   11.3s remaining:   26.5s\n",
      "[Parallel(n_jobs=-2)]: Done   5 out of  10 | elapsed:   11.5s remaining:   11.5s\n",
      "[Parallel(n_jobs=-2)]: Done   7 out of  10 | elapsed:   11.5s remaining:    4.9s\n",
      "[Parallel(n_jobs=-2)]: Done  10 out of  10 | elapsed:   15.7s finished\n"
     ]
    },
    {
     "name": "stdout",
     "output_type": "stream",
     "text": [
      "Clustering: graph\n"
     ]
    },
    {
     "name": "stderr",
     "output_type": "stream",
     "text": [
      "[Parallel(n_jobs=-2)]: Using backend LokyBackend with 7 concurrent workers.\n",
      "[Parallel(n_jobs=-2)]: Done   3 out of  10 | elapsed:    9.5s remaining:   22.2s\n",
      "[Parallel(n_jobs=-2)]: Done   5 out of  10 | elapsed:    9.6s remaining:    9.6s\n",
      "[Parallel(n_jobs=-2)]: Done   7 out of  10 | elapsed:    9.6s remaining:    4.1s\n",
      "[Parallel(n_jobs=-2)]: Done  10 out of  10 | elapsed:   13.5s finished\n"
     ]
    },
    {
     "name": "stdout",
     "output_type": "stream",
     "text": [
      "Clustering: none\n"
     ]
    },
    {
     "name": "stderr",
     "output_type": "stream",
     "text": [
      "[Parallel(n_jobs=-2)]: Using backend LokyBackend with 7 concurrent workers.\n",
      "[Parallel(n_jobs=-2)]: Done   3 out of  10 | elapsed:    9.4s remaining:   22.0s\n",
      "[Parallel(n_jobs=-2)]: Done   5 out of  10 | elapsed:    9.5s remaining:    9.5s\n",
      "[Parallel(n_jobs=-2)]: Done   7 out of  10 | elapsed:    9.5s remaining:    4.1s\n"
     ]
    },
    {
     "name": "stdout",
     "output_type": "stream",
     "text": [
      "Writing output to Amazon/Experiments/compare_clusterings_DEMO.pkl\n"
     ]
    },
    {
     "name": "stderr",
     "output_type": "stream",
     "text": [
      "[Parallel(n_jobs=-2)]: Done  10 out of  10 | elapsed:   13.4s finished\n"
     ]
    }
   ],
   "source": [
    "import json\n",
    "import pickle\n",
    "import experiment_python_scripts.run_compare_clusterings_experiment as cluster_exp\n",
    "\n",
    "my_path = \"Amazon/Experiments/DEMO/compare_clusterings_DEMO.json\" # path to .json file for the experiment\n",
    "jf = open(my_path,'rb')\n",
    "j = json.load(jf)\n",
    "jf.close()\n",
    "\n",
    "exp_name = j[\"name\"]\n",
    "network_folder = j[\"network\"]\n",
    "in_file = j[\"input\"]\n",
    "\n",
    "print(\"Loading Graph\")\n",
    "\n",
    "nf = open(network_folder + \"/\" + in_file,'rb')\n",
    "G,Cls = pickle.load(nf)\n",
    "nf.close()\n",
    "\n",
    "fixed = j[\"fix\"]\n",
    "varied = j[\"vary\"]\n",
    "r = j[\"replications\"]\n",
    "\n",
    "data = cluster_exp.run_experiment(G,Cls,fixed,varied,r)\n",
    "\n",
    "out_file = network_folder + \"/Experiments/DEMO/\" + exp_name + \"_DEMO.pkl\"\n",
    "print(f\"Writing output to {out_file}\")\n",
    "of = open(out_file,'wb')\n",
    "pickle.dump(data,of)\n",
    "of.close()"
   ]
  },
  {
   "cell_type": "markdown",
   "metadata": {},
   "source": [
    "This created a file called `compare_clusterings_DEMO.pkl` in the Experiment subfolder of the Amazon folder. The file contains data that can be used to plot figures such as  Figures 4, 11, 12, and 14 in the paper. To see plotting demos, refer to the Jupyter notebook \"figures_and_tables.ipynb\""
   ]
  },
  {
   "cell_type": "markdown",
   "metadata": {},
   "source": [
    "The process for the other real-world networks (BlogCatalog and Email) is the same, just pay attention to file names/directories."
   ]
  },
  {
   "cell_type": "markdown",
   "metadata": {},
   "source": [
    "# Comparing Estimators Experiment"
   ]
  },
  {
   "cell_type": "markdown",
   "metadata": {},
   "source": [
    "For the purposes of demonstration, files that include \"DEMO\" in their filename are distinct from the files used to generate data/figures/tables for the paper."
   ]
  },
  {
   "cell_type": "code",
   "execution_count": null,
   "metadata": {},
   "outputs": [
    {
     "name": "stdout",
     "output_type": "stream",
     "text": [
      "Loading Graph\n",
      "beta = 2\n",
      "nc = 250, q = 0.5\n"
     ]
    },
    {
     "name": "stderr",
     "output_type": "stream",
     "text": [
      "[Parallel(n_jobs=-2)]: Using backend LokyBackend with 7 concurrent workers.\n",
      "[Parallel(n_jobs=-2)]: Done   5 out of  16 | elapsed:  3.5min remaining:  7.8min\n",
      "[Parallel(n_jobs=-2)]: Done   7 out of  16 | elapsed:  3.5min remaining:  4.5min\n",
      "[Parallel(n_jobs=-2)]: Done   9 out of  16 | elapsed:  6.1min remaining:  4.7min\n",
      "[Parallel(n_jobs=-2)]: Done  11 out of  16 | elapsed:  6.4min remaining:  2.9min\n",
      "[Parallel(n_jobs=-2)]: Done  13 out of  16 | elapsed:  6.7min remaining:  1.5min\n"
     ]
    },
    {
     "name": "stdout",
     "output_type": "stream",
     "text": [
      "Writing output to Amazon/Experiments/compare_estimators_DEMO.pkl\n"
     ]
    },
    {
     "name": "stderr",
     "output_type": "stream",
     "text": [
      "[Parallel(n_jobs=-2)]: Done  16 out of  16 | elapsed:  7.9min finished\n"
     ]
    }
   ],
   "source": [
    "import json\n",
    "import pickle\n",
    "import experiment_python_scripts.run_compare_estimators_experiment as estimator_exp\n",
    "\n",
    "my_path = \"Amazon/Experiments/DEMO/compare_estimators_DEMO.json\" # path to .json file for the experiment\n",
    "jf = open(my_path,'rb')\n",
    "j = json.load(jf)\n",
    "jf.close()\n",
    "\n",
    "exp_name = j[\"name\"]\n",
    "network_folder = j[\"network\"]\n",
    "in_file = j[\"input\"]\n",
    "\n",
    "print(\"Loading Graph\")\n",
    "\n",
    "nf = open(network_folder + \"/\" + in_file,'rb')\n",
    "G,Cls = pickle.load(nf)\n",
    "nf.close()\n",
    "\n",
    "fixed = j[\"fix\"]\n",
    "varied = j[\"vary\"]\n",
    "r = j[\"replications\"]\n",
    "gamma = j[\"gamma\"]\n",
    "\n",
    "data = estimator_exp.run_experiment(G,Cls,fixed,varied,r,gamma)\n",
    "\n",
    "out_file = network_folder + \"/Experiments/DEMO/\" + exp_name + \"_DEMO.pkl\"\n",
    "print(f\"Writing output to {out_file}\")\n",
    "of = open(out_file,'wb')\n",
    "pickle.dump(data,of)\n",
    "of.close()"
   ]
  },
  {
   "cell_type": "markdown",
   "metadata": {},
   "source": [
    "This created a file called `compare_estimators_DEMO.pkl` in the Experiment/Demo subfolder of the Amazon folder. The file contains data that can be used to plot figures such as  Figures 2, 8, 9, 10, and 13 in the paper. To see plotting demos, refer to the Jupyter notebook \"figures_and_tables.ipynb\""
   ]
  },
  {
   "cell_type": "markdown",
   "metadata": {},
   "source": []
  }
 ],
 "metadata": {
  "kernelspec": {
   "display_name": "Python 3",
   "language": "python",
   "name": "python3"
  },
  "language_info": {
   "codemirror_mode": {
    "name": "ipython",
    "version": 3
   },
   "file_extension": ".py",
   "mimetype": "text/x-python",
   "name": "python",
   "nbconvert_exporter": "python",
   "pygments_lexer": "ipython3",
   "version": "3.11.11"
  }
 },
 "nbformat": 4,
 "nbformat_minor": 2
}
