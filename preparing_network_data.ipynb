{
 "cells": [
  {
   "cell_type": "markdown",
   "metadata": {},
   "source": [
    "Demo: preparing Network data for experiments"
   ]
  },
  {
   "cell_type": "markdown",
   "metadata": {},
   "source": [
    "# Downloading the data"
   ]
  },
  {
   "cell_type": "markdown",
   "metadata": {},
   "source": [
    "You can download...\n",
    "\n",
    "- the raw Amazon co-purchasing network data at https://snap.stanford.edu/data/amazon-meta.html\n",
    "- the raw BlogCatalog network data at https://networkrepository.com/soc-BlogCatalog-ASU\n",
    "- the raw Email network data at https://snap.stanford.edu/data/email-Eu-core.html"
   ]
  },
  {
   "cell_type": "markdown",
   "metadata": {},
   "source": [
    "**Citations**\n",
    "\n",
    "1. Leskovec, J., Adamic, L. A., & Huberman, B. A. (2007). The dynamics of viral marketing. ACM Transactions on the Web (TWEB), 1(1), 5-es.\n",
    "2. Leskovec, J. and Krevl, A. (2014). SNAP Datasets: Stanford large network dataset collection. http://snap.stanford.edu/data.\n",
    "3. Rossi, R., & Ahmed, N. (2015, March). The network data repository with interactive graph analytics and visualization. In Proceedings of the AAAI conference on artificial intelligence (Vol. 29, No. 1).\n",
    "4. Tang, L., & Liu, H. (2009, June). Relational learning via latent social dimensions. In Proceedings of the 15th ACM SIGKDD international conference on Knowledge discovery and data mining (pp. 817-826).\n",
    "5. Tang, L., & Liu, H. (2009, November). Scalable learning of collective behavior based on sparse social dimensions. In Proceedings of the 18th ACM conference on Information and knowledge management (pp. 1107-1116).\n",
    "6. Leskovec, J., Kleinberg, J., & Faloutsos, C. (2007). Graph evolution: Densification and shrinking diameters. ACM transactions on Knowledge Discovery from Data (TKDD), 1(1), 2-es.\n",
    "7. Yin, H., Benson, A. R., Leskovec, J., & Gleich, D. F. (2017, August). Local higher-order graph clustering. In Proceedings of the 23rd ACM SIGKDD international conference on knowledge discovery and data mining (pp. 555-564)."
   ]
  },
  {
   "cell_type": "markdown",
   "metadata": {},
   "source": [
    "# Amazon Network Example\n",
    "\n",
    "The experiments require the network data to be pre-processed. In particular, the experiments expect a file called called `data.pkl` that contain data in specific formats. We have included the pre-processed data in this repository. For the Amazon network specifically, we also need a file called `products.pkl` to create the `data.pkl` file.\n",
    "\n",
    "If you want to start with the raw data and pre-process it yourself below there are instructions for how to use our scripts to do so as well as an explanation of what format the data files should be to be compatible with the experiment scripts.\n",
    "\n",
    "## Pre-processing with our scripts\n",
    "\n",
    "- After downloading the raw data file `amazon-meta.txt.gz`, extract the `amazon-meta.txt` file. Place it in the folder `Amazon/Network`. \n",
    "- Run `parse_txt.py` to create the `products.pkl` file.\n",
    "- Run `prepare_data.py` script to create the `data.pkl` file.\n",
    "\n",
    "## Pre-processing with your own scripts\n",
    "\n",
    "The `products.pkl` file contains a list of dictionaries, with each dictionary corresponding to a DVD from the Amazon dataset. The dictionary corresponding to a particular DVD contains information such as the product categories the DVD belongs to, an ID number, its sales rank, and a list of its 5 neighbors (corresponding to the top 5 products with which it is a frequent co-purchase). Each DVD dict has the following key/values:\n",
    "- Key: `\"categories\"`, Value: List of product categories to which the DVD belongs to; categories are integer values\n",
    "- Key: `\"id\"`, Value: a string corresponding to the product's ID number\n",
    "- Key: `\"rank\"`, Value: an integer corresponding to the product's rank\n",
    "- Key: `\"neighbors\"`, Value: list of strings with each string corresponding to the ID number of a neighbor of this DVD\n",
    "\n",
    "The `data.pkl` file contains a tuple of objects `(G, Cls)` where\n",
    "\n",
    "- `G` is the adjacency matrix of the Amazon network in Compressed Sparse Row format\n",
    "- `Cls` contains different clusterings of the network in Python dictionary format. \n",
    "    - Keys are integers that correspond to the number of clusters (e.g. 50 or 100). \n",
    "    - The corresponding value is a clustering of that size, in list-of-list format. \n",
    "    - For example, at key value $50$, there is a list with 50 elements and each element is a list containing the nodes that are in that particular cluster"
   ]
  },
  {
   "cell_type": "markdown",
   "metadata": {},
   "source": [
    "# The BlogCatalog and Email Networks"
   ]
  },
  {
   "cell_type": "markdown",
   "metadata": {},
   "source": [
    "For each of these, we have included the preprocessed `data.pkl` file in the corresponding folders, as well as the `prepare_data.py` script used to process the raw data and create the `data.pkl` file. \n",
    "\n",
    "In all cases, the `data.pkl` file contains a tuple of objects `(G, Cls)` where\n",
    "\n",
    "- `G` is the adjacency matrix of the network in Compressed Sparse Row format\n",
    "- `Cls` contains different clusterings of the network in Python dictionary format. \n",
    "    - Keys are integers that correspond to the number of clusters (e.g. 50 or 100). \n",
    "    - The corresponding value is a clustering of that size, in list-of-list format. \n",
    "    - For example, at key value $50$, there is a list with 50 elements and each element is a list containing the nodes that are in that particular cluster"
   ]
  }
 ],
 "metadata": {
  "kernelspec": {
   "display_name": "Python 3",
   "language": "python",
   "name": "python3"
  },
  "language_info": {
   "codemirror_mode": {
    "name": "ipython",
    "version": 3
   },
   "file_extension": ".py",
   "mimetype": "text/x-python",
   "name": "python",
   "nbconvert_exporter": "python",
   "pygments_lexer": "ipython3",
   "version": "3.11.11"
  }
 },
 "nbformat": 4,
 "nbformat_minor": 2
}
